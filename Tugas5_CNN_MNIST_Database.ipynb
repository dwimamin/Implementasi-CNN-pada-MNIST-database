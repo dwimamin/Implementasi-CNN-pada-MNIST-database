{
  "nbformat": 4,
  "nbformat_minor": 0,
  "metadata": {
    "colab": {
      "name": "Tugas5 - CNN - MNIST Database",
      "version": "0.3.2",
      "provenance": []
    },
    "kernelspec": {
      "name": "python3",
      "display_name": "Python 3"
    },
    "accelerator": "GPU"
  },
  "cells": [
    {
      "metadata": {
        "id": "BLVPa4OGkuvU",
        "colab_type": "text"
      },
      "cell_type": "markdown",
      "source": [
        "**Implementasi CNN pada MNIST Database ( large database of handwritten digits )**"
      ]
    },
    {
      "metadata": {
        "id": "AXkplMGhor1_",
        "colab_type": "code",
        "colab": {}
      },
      "cell_type": "code",
      "source": [
        "#mnist dataset import\n",
        "\n",
        "import keras\n",
        "from keras.datasets import mnist\n",
        "#load mnist dataset\n",
        "(x_train, y_train), (x_test, y_test) = mnist.load_data()"
      ],
      "execution_count": 0,
      "outputs": []
    },
    {
      "metadata": {
        "id": "ot6o9o_opg7q",
        "colab_type": "code",
        "outputId": "01d40bc7-5611-4eb3-a048-aaf8a6ff3b1b",
        "colab": {
          "base_uri": "https://localhost:8080/",
          "height": 418
        }
      },
      "cell_type": "code",
      "source": [
        "#showing example of dataset\n",
        "import matplotlib.pyplot as plt\n",
        "for i in range(12):\n",
        "  plt.subplot(3,4,i+1)\n",
        "  plt.tight_layout()\n",
        "  plt.imshow(x_train[i], cmap='gray', interpolation='none')\n",
        "  plt.title(\"Angka: {}\".format(y_train[i]))\n",
        "  plt.xticks([])\n",
        "  plt.yticks([])\n",
        "plt.figure()"
      ],
      "execution_count": 57,
      "outputs": [
        {
          "output_type": "execute_result",
          "data": {
            "text/plain": [
              "<Figure size 576x396 with 0 Axes>"
            ]
          },
          "metadata": {
            "tags": []
          },
          "execution_count": 57
        },
        {
          "output_type": "display_data",
          "data": {
            "image/png": "[encoded data removed]",
            "text/plain": [
              "<Figure size 576x396 with 12 Axes>"
            ]
          },
          "metadata": {
            "tags": []
          }
        },
        {
          "output_type": "display_data",
          "data": {
            "text/plain": [
              "<Figure size 576x396 with 0 Axes>"
            ]
          },
          "metadata": {
            "tags": []
          }
        }
      ]
    },
    {
      "metadata": {
        "id": "wDYW1NnY2JdW",
        "colab_type": "code",
        "colab": {}
      },
      "cell_type": "code",
      "source": [
        "import tensorflow as tf\n",
        "from keras.models import Sequential\n",
        "from keras.layers import Dense, Conv2D, Dropout, Flatten, MaxPooling2D\n",
        "from keras.callbacks import History\n",
        "\n",
        "\n",
        "#normalize input data for keras processing\n",
        "x_train = x_train.reshape(x_train.shape[0], 28, 28, 1)\n",
        "x_test = x_test.reshape(x_test.shape[0], 28, 28, 1)\n",
        "\n",
        "#typecast into decimal\n",
        "x_train = x_train.astype('float32')\n",
        "x_test = x_test.astype('float32')\n",
        "\n",
        "\n",
        "x_train /= 255\n",
        "x_test /= 255"
      ],
      "execution_count": 0,
      "outputs": []
    },
    {
      "metadata": {
        "id": "-AesRgaP2mV4",
        "colab_type": "code",
        "outputId": "4ffa38b0-eb71-45aa-d4e7-6bc4a30ce2dc",
        "colab": {
          "base_uri": "https://localhost:8080/",
          "height": 34
        }
      },
      "cell_type": "code",
      "source": [
        "x_train.shape\n"
      ],
      "execution_count": 59,
      "outputs": [
        {
          "output_type": "execute_result",
          "data": {
            "text/plain": [
              "(60000, 28, 28, 1)"
            ]
          },
          "metadata": {
            "tags": []
          },
          "execution_count": 59
        }
      ]
    },
    {
      "metadata": {
        "id": "i29cwffsuRSz",
        "colab_type": "code",
        "colab": {}
      },
      "cell_type": "code",
      "source": [
        "#model building\n",
        "model = Sequential()\n",
        "\n",
        "#convolutional layer using Rectified Linear \n",
        "model.add(Conv2D(28, kernel_size=(3,3), input_shape=(28, 28, 1)))\n",
        "\n",
        "#choose the best feature using pooling\n",
        "model.add(MaxPooling2D(pool_size=(2, 2)))\n",
        "\n",
        "#flatten dimensions\n",
        "model.add(Flatten())\n",
        "model.add(Dense(128, activation=tf.nn.relu))\n",
        "model.add(Dropout(0.2))\n",
        "\n",
        "#output a softmax\n",
        "model.add(Dense(10,activation=tf.nn.softmax))"
      ],
      "execution_count": 0,
      "outputs": []
    },
    {
      "metadata": {
        "id": "bPekuUVkvQmD",
        "colab_type": "code",
        "outputId": "d6b8ed01-1116-4d2f-faf3-c8c1bc9f6010",
        "colab": {
          "base_uri": "https://localhost:8080/",
          "height": 357
        }
      },
      "cell_type": "code",
      "source": [
        "epoch=10\n",
        "history = History()\n",
        "model.compile(optimizer='adam', \n",
        "              loss='sparse_categorical_crossentropy', \n",
        "              metrics=['accuracy'])\n",
        "train_log = model.fit(x=x_train,y=y_train, epochs=epoch,callbacks=[history])"
      ],
      "execution_count": 61,
      "outputs": [
        {
          "output_type": "stream",
          "text": [
            "Epoch 1/10\n",
            "60000/60000 [==============================] - 12s 199us/step - loss: 0.2047 - acc: 0.9386\n",
            "Epoch 2/10\n",
            "60000/60000 [==============================] - 12s 193us/step - loss: 0.0798 - acc: 0.9756\n",
            "Epoch 3/10\n",
            "60000/60000 [==============================] - 12s 193us/step - loss: 0.0583 - acc: 0.9818\n",
            "Epoch 4/10\n",
            "60000/60000 [==============================] - 12s 192us/step - loss: 0.0435 - acc: 0.9857\n",
            "Epoch 5/10\n",
            "60000/60000 [==============================] - 12s 192us/step - loss: 0.0358 - acc: 0.9886\n",
            "Epoch 6/10\n",
            "60000/60000 [==============================] - 12s 192us/step - loss: 0.0304 - acc: 0.9896\n",
            "Epoch 7/10\n",
            "60000/60000 [==============================] - 12s 192us/step - loss: 0.0255 - acc: 0.9914\n",
            "Epoch 8/10\n",
            "60000/60000 [==============================] - 11s 191us/step - loss: 0.0209 - acc: 0.9929\n",
            "Epoch 9/10\n",
            "60000/60000 [==============================] - 11s 191us/step - loss: 0.0201 - acc: 0.9934\n",
            "Epoch 10/10\n",
            "60000/60000 [==============================] - 11s 190us/step - loss: 0.0171 - acc: 0.9942\n"
          ],
          "name": "stdout"
        }
      ]
    },
    {
      "metadata": {
        "id": "c-BmbCq6xioS",
        "colab_type": "code",
        "outputId": "234a2ce2-1880-48fe-9cb8-7d76acc666b0",
        "colab": {
          "base_uri": "https://localhost:8080/",
          "height": 357
        }
      },
      "cell_type": "code",
      "source": [
        "train_log.history"
      ],
      "execution_count": 62,
      "outputs": [
        {
          "output_type": "execute_result",
          "data": {
            "text/plain": [
              "{'acc': [0.9386166666666667,\n",
              "  0.9755833333333334,\n",
              "  0.9818166666666667,\n",
              "  0.9856833333333334,\n",
              "  0.9886166666666667,\n",
              "  0.9895666666666667,\n",
              "  0.9913833333333333,\n",
              "  0.9928666666666667,\n",
              "  0.9933666666666666,\n",
              "  0.9941833333333333],\n",
              " 'loss': [0.20471670162429412,\n",
              "  0.07983145790842051,\n",
              "  0.05830440425012882,\n",
              "  0.0434923149814674,\n",
              "  0.03580991765104312,\n",
              "  0.03037518907599345,\n",
              "  0.025528630986896558,\n",
              "  0.020865751777892003,\n",
              "  0.020060791753564868,\n",
              "  0.017097907631772494]}"
            ]
          },
          "metadata": {
            "tags": []
          },
          "execution_count": 62
        }
      ]
    },
    {
      "metadata": {
        "id": "woxfcRxizQqs",
        "colab_type": "code",
        "outputId": "5cff1763-9f5b-491b-d6c7-3658774a3b41",
        "colab": {
          "base_uri": "https://localhost:8080/",
          "height": 51
        }
      },
      "cell_type": "code",
      "source": [
        "#menghitung akurasi dan loss data validation\n",
        "valid_log = model.evaluate(x_test, y_test)\n",
        "valid_log"
      ],
      "execution_count": 63,
      "outputs": [
        {
          "output_type": "stream",
          "text": [
            "10000/10000 [==============================] - 1s 84us/step\n"
          ],
          "name": "stdout"
        },
        {
          "output_type": "execute_result",
          "data": {
            "text/plain": [
              "[0.06574423290497944, 0.9852]"
            ]
          },
          "metadata": {
            "tags": []
          },
          "execution_count": 63
        }
      ]
    },
    {
      "metadata": {
        "id": "XgeYyQ8BzUDC",
        "colab_type": "code",
        "outputId": "8493745e-975f-49d4-fe64-008da9272605",
        "colab": {
          "base_uri": "https://localhost:8080/",
          "height": 361
        }
      },
      "cell_type": "code",
      "source": [
        "# plotting the metrics\n",
        "plt.plot(train_log.history['loss'],label='Training')\n",
        "plt.ylabel('Loss')\n",
        "plt.xlabel('Epoch')\n",
        "plt.legend()\n",
        "plt.show()\n"
      ],
      "execution_count": 64,
      "outputs": [
        {
          "output_type": "display_data",
          "data": {
            "image/png": "[encoded data removed]",
            "text/plain": [
              "<Figure size 576x396 with 1 Axes>"
            ]
          },
          "metadata": {
            "tags": []
          }
        }
      ]
    },
    {
      "metadata": {
        "id": "Wp-a52h3zT8G",
        "colab_type": "code",
        "outputId": "e4be1e13-b76a-44dc-c021-cc1ac921de70",
        "colab": {
          "base_uri": "https://localhost:8080/",
          "height": 361
        }
      },
      "cell_type": "code",
      "source": [
        "# plotting the metrics\n",
        "plt.plot(train_log.history['acc'],label='Accuracy')\n",
        "plt.ylabel('Acc')\n",
        "plt.xlabel('Epoch')\n",
        "plt.legend()\n",
        "plt.show()\n"
      ],
      "execution_count": 65,
      "outputs": [
        {
          "output_type": "display_data",
          "data": {
            "image/png": "[encoded data removed]",
            "text/plain": [
              "<Figure size 576x396 with 1 Axes>"
            ]
          },
          "metadata": {
            "tags": []
          }
        }
      ]
    }
  ]
}